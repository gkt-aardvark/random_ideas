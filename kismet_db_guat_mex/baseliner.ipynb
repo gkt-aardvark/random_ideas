{
 "cells": [
  {
   "cell_type": "markdown",
   "metadata": {},
   "source": [
    "## Determing 'baseline devices' with the Kismet packets table\n",
    "Kismet database have two main tables: devices, which has a summary of each device and what information Kismet knows about it, and the packets tables, which has literally every packet, which can be useful for determining a device's behavior, presence, activities, etc.\n",
    "\n",
    "Here we'll see a way to just get the 'baseline devices' from the kismet database. Not sure if this is the best way, but it's A WAY.\n",
    "\n",
    "Basically, what will happen is that we'll divide the timeframe of the scan (in this case about two days) into 'buckets' or intervals of 300 seconds (5 minutes) and then see which devices are in at least 95 percent of those buckets.\n",
    "\n",
    "You can, of course, redefine those parameters. I am simply selecting five minutes and 95 percent as decent numbers that work for me. In certain environments, especially when you have a lot of access points around, you may miss some less vocal devices, like TVs, game systems, etc. You may want to adjust the numbers a bit.\n"
   ]
  },
  {
   "cell_type": "code",
   "execution_count": 1,
   "metadata": {},
   "outputs": [],
   "source": [
    "#necessary imports\n",
    "import pandas as pd\n",
    "import sqlite3\n",
    "\n",
    "#set up connection to db\n",
    "conn = sqlite3.connect('guate.kismet')\n",
    "\n",
    "#define sql query to pull each mac and timestamp from packets table\n",
    "query = 'SELECT ts_sec, sourcemac FROM packets;'\n",
    "\n",
    "#read the data into a dataframe\n",
    "kismet = pd.read_sql_query(query, conn)\n",
    "conn.close()\n",
    "\n",
    "#set a reasonable interval, could be seconds, minutes, whatever\n",
    "#I'm going with 300s, since 5 minutes is a reasonable time\n",
    "#to give every device a chance to be \"present\"\n",
    "interval = '300s'"
   ]
  },
  {
   "cell_type": "code",
   "execution_count": 2,
   "metadata": {},
   "outputs": [
    {
     "name": "stdout",
     "output_type": "stream",
     "text": [
      "Start Time: 2020-03-23 12:41:48 Stop Time: 2020-03-25 12:21:18\n",
      "Number of intervals: 573\n"
     ]
    }
   ],
   "source": [
    "#get the start and stop time with .min() and .max() on the ts_sec column\n",
    "min_ts = pd.to_datetime(kismet.ts_sec.min(), unit='s')\n",
    "max_ts = pd.to_datetime(kismet.ts_sec.max(), unit='s')\n",
    "\n",
    "#reset/round/whatever the timestamps to five-minute intervals via .floor() method on the ts\n",
    "#this will push each timestamp to the next highest even multiple of that time interval\n",
    "#i.e., if you started scanning at 16:57:01, the first interval will start at 15:00:00\n",
    "#then the intervals will be 15:05:00, 15:10:00, etc.\n",
    "kismet.ts_sec = pd.to_datetime(kismet.ts_sec, unit='s').dt.floor(interval)\n",
    "\n",
    "#get total number of intervals\n",
    "total_intervals = len(kismet.ts_sec.value_counts())\n",
    "\n",
    "print ('Start Time: {} Stop Time: {}'.format(min_ts, max_ts))\n",
    "print ('Number of intervals: {}'.format(total_intervals))\n",
    "\n",
    "#dropping all duplicates within each 'bucket'\n",
    "#we only want to see which devices are present in each bucket\n",
    "#and don't care in this case about each packet\n",
    "kismet.drop_duplicates(inplace=True)"
   ]
  },
  {
   "cell_type": "code",
   "execution_count": 3,
   "metadata": {},
   "outputs": [],
   "source": [
    "#group the dataframe by mac, count (size) how many intervals it appears in\n",
    "#and sort in descending order, showing most-active (baseline) devices at the top\n",
    "#this could be used to filter, identify, whatever...\n",
    "k1 = kismet.groupby(['sourcemac']).size().to_frame('intervals').sort_values('intervals', ascending=False)"
   ]
  },
  {
   "cell_type": "code",
   "execution_count": 4,
   "metadata": {},
   "outputs": [
    {
     "data": {
      "text/html": [
       "<div>\n",
       "<style scoped>\n",
       "    .dataframe tbody tr th:only-of-type {\n",
       "        vertical-align: middle;\n",
       "    }\n",
       "\n",
       "    .dataframe tbody tr th {\n",
       "        vertical-align: top;\n",
       "    }\n",
       "\n",
       "    .dataframe thead th {\n",
       "        text-align: right;\n",
       "    }\n",
       "</style>\n",
       "<table border=\"1\" class=\"dataframe\">\n",
       "  <thead>\n",
       "    <tr style=\"text-align: right;\">\n",
       "      <th></th>\n",
       "      <th>intervals</th>\n",
       "    </tr>\n",
       "    <tr>\n",
       "      <th>sourcemac</th>\n",
       "      <th></th>\n",
       "    </tr>\n",
       "  </thead>\n",
       "  <tbody>\n",
       "    <tr>\n",
       "      <td>00:00:00:00:00:00</td>\n",
       "      <td>573</td>\n",
       "    </tr>\n",
       "    <tr>\n",
       "      <td>F0:9F:C2:F4:10:8D</td>\n",
       "      <td>573</td>\n",
       "    </tr>\n",
       "    <tr>\n",
       "      <td>F2:9F:C2:F7:F8:30</td>\n",
       "      <td>573</td>\n",
       "    </tr>\n",
       "    <tr>\n",
       "      <td>F2:9F:C2:F8:F4:B6</td>\n",
       "      <td>573</td>\n",
       "    </tr>\n",
       "    <tr>\n",
       "      <td>F2:9F:C2:F5:10:8D</td>\n",
       "      <td>573</td>\n",
       "    </tr>\n",
       "    <tr>\n",
       "      <td>F2:9F:C2:F8:F8:30</td>\n",
       "      <td>573</td>\n",
       "    </tr>\n",
       "    <tr>\n",
       "      <td>F0:9F:C2:FE:A4:95</td>\n",
       "      <td>573</td>\n",
       "    </tr>\n",
       "    <tr>\n",
       "      <td>F2:9F:C2:FD:A4:95</td>\n",
       "      <td>573</td>\n",
       "    </tr>\n",
       "    <tr>\n",
       "      <td>F2:9F:C2:FE:A4:95</td>\n",
       "      <td>573</td>\n",
       "    </tr>\n",
       "    <tr>\n",
       "      <td>F0:9F:C2:FD:A4:95</td>\n",
       "      <td>573</td>\n",
       "    </tr>\n",
       "  </tbody>\n",
       "</table>\n",
       "</div>"
      ],
      "text/plain": [
       "                   intervals\n",
       "sourcemac                   \n",
       "00:00:00:00:00:00        573\n",
       "F0:9F:C2:F4:10:8D        573\n",
       "F2:9F:C2:F7:F8:30        573\n",
       "F2:9F:C2:F8:F4:B6        573\n",
       "F2:9F:C2:F5:10:8D        573\n",
       "F2:9F:C2:F8:F8:30        573\n",
       "F0:9F:C2:FE:A4:95        573\n",
       "F2:9F:C2:FD:A4:95        573\n",
       "F2:9F:C2:FE:A4:95        573\n",
       "F0:9F:C2:FD:A4:95        573"
      ]
     },
     "execution_count": 4,
     "metadata": {},
     "output_type": "execute_result"
    }
   ],
   "source": [
    "#k1 holds just the mac (index) and the number of intervals present\n",
    "k1.head(10)"
   ]
  },
  {
   "cell_type": "code",
   "execution_count": 5,
   "metadata": {},
   "outputs": [],
   "source": [
    "#I'm gonna say that anything appearing in more than 95% of the intervals is baseline\n",
    "baseline_devices = k1[(k1.intervals >= 0.95 * total_intervals)]"
   ]
  },
  {
   "cell_type": "code",
   "execution_count": 6,
   "metadata": {},
   "outputs": [
    {
     "data": {
      "text/html": [
       "<div>\n",
       "<style scoped>\n",
       "    .dataframe tbody tr th:only-of-type {\n",
       "        vertical-align: middle;\n",
       "    }\n",
       "\n",
       "    .dataframe tbody tr th {\n",
       "        vertical-align: top;\n",
       "    }\n",
       "\n",
       "    .dataframe thead th {\n",
       "        text-align: right;\n",
       "    }\n",
       "</style>\n",
       "<table border=\"1\" class=\"dataframe\">\n",
       "  <thead>\n",
       "    <tr style=\"text-align: right;\">\n",
       "      <th></th>\n",
       "      <th>intervals</th>\n",
       "    </tr>\n",
       "    <tr>\n",
       "      <th>sourcemac</th>\n",
       "      <th></th>\n",
       "    </tr>\n",
       "  </thead>\n",
       "  <tbody>\n",
       "    <tr>\n",
       "      <td>00:00:00:00:00:00</td>\n",
       "      <td>573</td>\n",
       "    </tr>\n",
       "    <tr>\n",
       "      <td>F0:9F:C2:F4:10:8D</td>\n",
       "      <td>573</td>\n",
       "    </tr>\n",
       "    <tr>\n",
       "      <td>F2:9F:C2:F7:F8:30</td>\n",
       "      <td>573</td>\n",
       "    </tr>\n",
       "    <tr>\n",
       "      <td>F2:9F:C2:F8:F4:B6</td>\n",
       "      <td>573</td>\n",
       "    </tr>\n",
       "    <tr>\n",
       "      <td>F2:9F:C2:F5:10:8D</td>\n",
       "      <td>573</td>\n",
       "    </tr>\n",
       "    <tr>\n",
       "      <td>F2:9F:C2:F8:F8:30</td>\n",
       "      <td>573</td>\n",
       "    </tr>\n",
       "    <tr>\n",
       "      <td>F0:9F:C2:FE:A4:95</td>\n",
       "      <td>573</td>\n",
       "    </tr>\n",
       "    <tr>\n",
       "      <td>F2:9F:C2:FD:A4:95</td>\n",
       "      <td>573</td>\n",
       "    </tr>\n",
       "    <tr>\n",
       "      <td>F2:9F:C2:FE:A4:95</td>\n",
       "      <td>573</td>\n",
       "    </tr>\n",
       "    <tr>\n",
       "      <td>F0:9F:C2:FD:A4:95</td>\n",
       "      <td>573</td>\n",
       "    </tr>\n",
       "    <tr>\n",
       "      <td>F0:9F:C2:F8:F8:30</td>\n",
       "      <td>573</td>\n",
       "    </tr>\n",
       "    <tr>\n",
       "      <td>F0:9F:C2:F8:F4:B6</td>\n",
       "      <td>573</td>\n",
       "    </tr>\n",
       "    <tr>\n",
       "      <td>F0:9F:C2:F7:F8:30</td>\n",
       "      <td>573</td>\n",
       "    </tr>\n",
       "    <tr>\n",
       "      <td>F0:9F:C2:F7:F4:B6</td>\n",
       "      <td>573</td>\n",
       "    </tr>\n",
       "    <tr>\n",
       "      <td>F0:9F:C2:F5:10:8D</td>\n",
       "      <td>573</td>\n",
       "    </tr>\n",
       "    <tr>\n",
       "      <td>F2:9F:C2:F7:F4:B6</td>\n",
       "      <td>573</td>\n",
       "    </tr>\n",
       "    <tr>\n",
       "      <td>CC:2D:E0:3E:27:FB</td>\n",
       "      <td>573</td>\n",
       "    </tr>\n",
       "    <tr>\n",
       "      <td>F2:9F:C2:F4:10:8D</td>\n",
       "      <td>572</td>\n",
       "    </tr>\n",
       "    <tr>\n",
       "      <td>F0:9F:C2:FD:AA:B7</td>\n",
       "      <td>566</td>\n",
       "    </tr>\n",
       "    <tr>\n",
       "      <td>60:38:E0:DA:F9:63</td>\n",
       "      <td>555</td>\n",
       "    </tr>\n",
       "    <tr>\n",
       "      <td>F2:9F:C2:FD:AA:B7</td>\n",
       "      <td>549</td>\n",
       "    </tr>\n",
       "  </tbody>\n",
       "</table>\n",
       "</div>"
      ],
      "text/plain": [
       "                   intervals\n",
       "sourcemac                   \n",
       "00:00:00:00:00:00        573\n",
       "F0:9F:C2:F4:10:8D        573\n",
       "F2:9F:C2:F7:F8:30        573\n",
       "F2:9F:C2:F8:F4:B6        573\n",
       "F2:9F:C2:F5:10:8D        573\n",
       "F2:9F:C2:F8:F8:30        573\n",
       "F0:9F:C2:FE:A4:95        573\n",
       "F2:9F:C2:FD:A4:95        573\n",
       "F2:9F:C2:FE:A4:95        573\n",
       "F0:9F:C2:FD:A4:95        573\n",
       "F0:9F:C2:F8:F8:30        573\n",
       "F0:9F:C2:F8:F4:B6        573\n",
       "F0:9F:C2:F7:F8:30        573\n",
       "F0:9F:C2:F7:F4:B6        573\n",
       "F0:9F:C2:F5:10:8D        573\n",
       "F2:9F:C2:F7:F4:B6        573\n",
       "CC:2D:E0:3E:27:FB        573\n",
       "F2:9F:C2:F4:10:8D        572\n",
       "F0:9F:C2:FD:AA:B7        566\n",
       "60:38:E0:DA:F9:63        555\n",
       "F2:9F:C2:FD:AA:B7        549"
      ]
     },
     "execution_count": 6,
     "metadata": {},
     "output_type": "execute_result"
    }
   ],
   "source": [
    "#baseline_devices at this point is a new dataframe\n",
    "baseline_devices"
   ]
  },
  {
   "cell_type": "code",
   "execution_count": 7,
   "metadata": {},
   "outputs": [
    {
     "data": {
      "text/plain": [
       "21"
      ]
     },
     "execution_count": 7,
     "metadata": {},
     "output_type": "execute_result"
    }
   ],
   "source": [
    "#just look at the number of baseline devices in baseline_devices\n",
    "len(baseline_devices)"
   ]
  },
  {
   "cell_type": "code",
   "execution_count": 8,
   "metadata": {},
   "outputs": [],
   "source": [
    "#just convert to a Python list\n",
    "baseline_list = list(baseline_devices.index)"
   ]
  },
  {
   "cell_type": "code",
   "execution_count": 9,
   "metadata": {},
   "outputs": [
    {
     "data": {
      "text/plain": [
       "['00:00:00:00:00:00',\n",
       " 'F0:9F:C2:F4:10:8D',\n",
       " 'F2:9F:C2:F7:F8:30',\n",
       " 'F2:9F:C2:F8:F4:B6',\n",
       " 'F2:9F:C2:F5:10:8D',\n",
       " 'F2:9F:C2:F8:F8:30',\n",
       " 'F0:9F:C2:FE:A4:95',\n",
       " 'F2:9F:C2:FD:A4:95',\n",
       " 'F2:9F:C2:FE:A4:95',\n",
       " 'F0:9F:C2:FD:A4:95',\n",
       " 'F0:9F:C2:F8:F8:30',\n",
       " 'F0:9F:C2:F8:F4:B6',\n",
       " 'F0:9F:C2:F7:F8:30',\n",
       " 'F0:9F:C2:F7:F4:B6',\n",
       " 'F0:9F:C2:F5:10:8D',\n",
       " 'F2:9F:C2:F7:F4:B6',\n",
       " 'CC:2D:E0:3E:27:FB',\n",
       " 'F2:9F:C2:F4:10:8D',\n",
       " 'F0:9F:C2:FD:AA:B7',\n",
       " '60:38:E0:DA:F9:63',\n",
       " 'F2:9F:C2:FD:AA:B7']"
      ]
     },
     "execution_count": 9,
     "metadata": {},
     "output_type": "execute_result"
    }
   ],
   "source": [
    "baseline_list"
   ]
  },
  {
   "cell_type": "code",
   "execution_count": null,
   "metadata": {},
   "outputs": [],
   "source": []
  }
 ],
 "metadata": {
  "kernelspec": {
   "display_name": "Python 3",
   "language": "python",
   "name": "python3"
  },
  "language_info": {
   "codemirror_mode": {
    "name": "ipython",
    "version": 3
   },
   "file_extension": ".py",
   "mimetype": "text/x-python",
   "name": "python",
   "nbconvert_exporter": "python",
   "pygments_lexer": "ipython3",
   "version": "3.7.4"
  }
 },
 "nbformat": 4,
 "nbformat_minor": 2
}
